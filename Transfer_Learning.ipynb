{
 "cells": [
  {
   "cell_type": "code",
   "execution_count": 1,
   "id": "5952ec64",
   "metadata": {},
   "outputs": [],
   "source": [
    "import os\n",
    "import cv2\n",
    "from sklearn.utils import shuffle\n",
    "import numpy as np\n",
    "from tensorflow.keras.preprocessing.image import ImageDataGenerator\n",
    "import matplotlib.pyplot as plt"
   ]
  },
  {
   "cell_type": "code",
   "execution_count": 2,
   "id": "d89ce39b",
   "metadata": {},
   "outputs": [],
   "source": [
    "dataset_path = 'data'\n",
    "epochs=50"
   ]
  },
  {
   "cell_type": "code",
   "execution_count": 3,
   "id": "4895417d",
   "metadata": {},
   "outputs": [
    {
     "name": "stdout",
     "output_type": "stream",
     "text": [
      "--> Checking for physical Tensorflow devices\n",
      ": /physical_device:CPU:0\n",
      ": /physical_device:GPU:0\n"
     ]
    }
   ],
   "source": [
    "import tensorflow as tf\n",
    "\n",
    "print(\"--> Checking for physical Tensorflow devices\")\n",
    "for device in tf.config.list_physical_devices():\n",
    "    print(\": {}\".format(device.name))"
   ]
  },
  {
   "cell_type": "code",
   "execution_count": 4,
   "id": "e7c819ca",
   "metadata": {},
   "outputs": [],
   "source": [
    "train_data_generator = ImageDataGenerator(\n",
    "    rescale = 1./255,\n",
    "    rotation_range=40,\n",
    "    width_shift_range=0.2,\n",
    "    height_shift_range=0.2,\n",
    "    shear_range=0.2,\n",
    "    zoom_range=0.2,\n",
    "    horizontal_flip=True,\n",
    "    fill_mode='nearest',\n",
    "    validation_split = 0.2)\n",
    "\n",
    "test_data_generator = ImageDataGenerator(\n",
    "    rescale = 1./255,\n",
    "    validation_split = 0.2)"
   ]
  },
  {
   "cell_type": "code",
   "execution_count": 5,
   "id": "74127b9f",
   "metadata": {},
   "outputs": [],
   "source": [
    "# GPU setup\n",
    "batch_size = 32\n",
    "img_height = 224\n",
    "img_width = 224"
   ]
  },
  {
   "cell_type": "code",
   "execution_count": 6,
   "id": "4fac5389",
   "metadata": {},
   "outputs": [
    {
     "name": "stdout",
     "output_type": "stream",
     "text": [
      "Found 80800 images belonging to 101 classes.\n",
      "Found 20197 images belonging to 101 classes.\n"
     ]
    }
   ],
   "source": [
    "train_data = train_data_generator.flow_from_directory(\n",
    "    dataset_path,\n",
    "    target_size = (img_width, img_height),\n",
    "    batch_size = batch_size,\n",
    "    class_mode = 'categorical',\n",
    "    subset = 'training')\n",
    "\n",
    "val_data = test_data_generator.flow_from_directory(\n",
    "    dataset_path,\n",
    "    target_size = (img_width, img_height),\n",
    "    batch_size = batch_size,\n",
    "    class_mode='categorical',\n",
    "    subset = 'validation')"
   ]
  },
  {
   "cell_type": "code",
   "execution_count": 7,
   "id": "e382aeec",
   "metadata": {},
   "outputs": [],
   "source": [
    "import tensorflow_hub as hub"
   ]
  },
  {
   "cell_type": "code",
   "execution_count": 8,
   "id": "38fdb6a7",
   "metadata": {},
   "outputs": [],
   "source": [
    "Efficientnet_b0 = 'https://tfhub.dev/google/efficientnet/b0/classification/1'"
   ]
  },
  {
   "cell_type": "code",
   "execution_count": 9,
   "id": "0fb7df9c",
   "metadata": {},
   "outputs": [
    {
     "name": "stdout",
     "output_type": "stream",
     "text": [
      "WARNING:tensorflow:Please fix your imports. Module tensorflow.python.training.tracking.data_structures has been moved to tensorflow.python.trackable.data_structures. The old module will be deleted in version 2.11.\n"
     ]
    }
   ],
   "source": [
    "model_Efficientnet = tf.keras.Sequential([\n",
    "    hub.KerasLayer(Efficientnet_b0, trainable = False, input_shape = (224,224,3), name = 'Efficientnet_b0'),\n",
    "    tf.keras.layers.Flatten(),\n",
    "    tf.keras.layers.Dense(101, activation = 'softmax', name = 'Output_layer')\n",
    "])\n",
    "\n",
    "model_Efficientnet.compile(\n",
    "    optimizer = tf.keras.optimizers.Adam(),\n",
    "    loss = tf.keras.losses.CategoricalCrossentropy(),\n",
    "    metrics = ['accuracy','top_k_categorical_accuracy']\n",
    ")"
   ]
  },
  {
   "cell_type": "code",
   "execution_count": 10,
   "id": "5c1c3074",
   "metadata": {},
   "outputs": [
    {
     "name": "stdout",
     "output_type": "stream",
     "text": [
      "Epoch 1/50\n",
      "2525/2525 [==============================] - 2177s 850ms/step - loss: 1.9575 - accuracy: 0.5135 - top_k_categorical_accuracy: 0.7721\n",
      "Epoch 2/50\n",
      "2525/2525 [==============================] - 1648s 653ms/step - loss: 1.6034 - accuracy: 0.5937 - top_k_categorical_accuracy: 0.8378\n",
      "Epoch 3/50\n",
      "2525/2525 [==============================] - 1639s 649ms/step - loss: 1.5264 - accuracy: 0.6117 - top_k_categorical_accuracy: 0.8507\n",
      "Epoch 4/50\n",
      "2525/2525 [==============================] - 1623s 643ms/step - loss: 1.4883 - accuracy: 0.6200 - top_k_categorical_accuracy: 0.8571\n",
      "Epoch 5/50\n",
      "2525/2525 [==============================] - 1599s 633ms/step - loss: 1.4522 - accuracy: 0.6280 - top_k_categorical_accuracy: 0.8641\n",
      "Epoch 6/50\n",
      "2525/2525 [==============================] - 1634s 647ms/step - loss: 1.4305 - accuracy: 0.6337 - top_k_categorical_accuracy: 0.8656\n",
      "Epoch 7/50\n",
      "2525/2525 [==============================] - 1576s 624ms/step - loss: 1.4109 - accuracy: 0.6377 - top_k_categorical_accuracy: 0.8688\n",
      "Epoch 8/50\n",
      "2525/2525 [==============================] - 1628s 644ms/step - loss: 1.3960 - accuracy: 0.6428 - top_k_categorical_accuracy: 0.8711\n",
      "Epoch 9/50\n",
      "2525/2525 [==============================] - 1620s 641ms/step - loss: 1.3844 - accuracy: 0.6453 - top_k_categorical_accuracy: 0.8731\n",
      "Epoch 10/50\n",
      "2525/2525 [==============================] - 1545s 612ms/step - loss: 1.3716 - accuracy: 0.6485 - top_k_categorical_accuracy: 0.8751\n",
      "Epoch 11/50\n",
      "2525/2525 [==============================] - 1551s 613ms/step - loss: 1.3667 - accuracy: 0.6500 - top_k_categorical_accuracy: 0.8769\n",
      "Epoch 12/50\n",
      "2525/2525 [==============================] - 1579s 626ms/step - loss: 1.3495 - accuracy: 0.6520 - top_k_categorical_accuracy: 0.8792\n",
      "Epoch 13/50\n",
      "2525/2525 [==============================] - 3663s 1s/step - loss: 1.3485 - accuracy: 0.6533 - top_k_categorical_accuracy: 0.8793\n",
      "Epoch 14/50\n",
      "2525/2525 [==============================] - 2339s 925ms/step - loss: 1.3407 - accuracy: 0.6551 - top_k_categorical_accuracy: 0.8811\n",
      "Epoch 15/50\n",
      "2525/2525 [==============================] - 1620s 642ms/step - loss: 1.3322 - accuracy: 0.6559 - top_k_categorical_accuracy: 0.8824\n",
      "Epoch 16/50\n",
      "2525/2525 [==============================] - 1646s 651ms/step - loss: 1.3245 - accuracy: 0.6562 - top_k_categorical_accuracy: 0.8841\n",
      "Epoch 17/50\n",
      "2525/2525 [==============================] - 1650s 653ms/step - loss: 1.3202 - accuracy: 0.6584 - top_k_categorical_accuracy: 0.8846\n",
      "Epoch 18/50\n",
      "2525/2525 [==============================] - 1720s 681ms/step - loss: 1.3168 - accuracy: 0.6606 - top_k_categorical_accuracy: 0.8841\n",
      "Epoch 19/50\n",
      "2525/2525 [==============================] - 3228s 1s/step - loss: 1.3046 - accuracy: 0.6621 - top_k_categorical_accuracy: 0.8862\n",
      "Epoch 20/50\n",
      "2525/2525 [==============================] - 1612s 638ms/step - loss: 1.3057 - accuracy: 0.6630 - top_k_categorical_accuracy: 0.8853\n",
      "Epoch 21/50\n",
      "2525/2525 [==============================] - 1613s 638ms/step - loss: 1.3063 - accuracy: 0.6629 - top_k_categorical_accuracy: 0.8875\n",
      "Epoch 22/50\n",
      "2525/2525 [==============================] - 1570s 621ms/step - loss: 1.3001 - accuracy: 0.6653 - top_k_categorical_accuracy: 0.8879\n",
      "Epoch 23/50\n",
      "2525/2525 [==============================] - 1591s 630ms/step - loss: 1.2910 - accuracy: 0.6657 - top_k_categorical_accuracy: 0.8885\n",
      "Epoch 24/50\n",
      "2525/2525 [==============================] - 1586s 627ms/step - loss: 1.2978 - accuracy: 0.6636 - top_k_categorical_accuracy: 0.8888\n",
      "Epoch 25/50\n",
      "2525/2525 [==============================] - 1593s 631ms/step - loss: 1.2971 - accuracy: 0.6650 - top_k_categorical_accuracy: 0.8885\n",
      "Epoch 26/50\n",
      "2525/2525 [==============================] - 1628s 645ms/step - loss: 1.2874 - accuracy: 0.6663 - top_k_categorical_accuracy: 0.8900\n",
      "Epoch 27/50\n",
      "2525/2525 [==============================] - 1590s 629ms/step - loss: 1.2905 - accuracy: 0.6673 - top_k_categorical_accuracy: 0.8894\n",
      "Epoch 28/50\n",
      "2525/2525 [==============================] - 1642s 650ms/step - loss: 1.2740 - accuracy: 0.6695 - top_k_categorical_accuracy: 0.8909\n",
      "Epoch 29/50\n",
      "2525/2525 [==============================] - 1597s 633ms/step - loss: 1.2796 - accuracy: 0.6679 - top_k_categorical_accuracy: 0.8914\n",
      "Epoch 30/50\n",
      "2525/2525 [==============================] - 1586s 628ms/step - loss: 1.2752 - accuracy: 0.6699 - top_k_categorical_accuracy: 0.8922\n",
      "Epoch 31/50\n",
      "2525/2525 [==============================] - 1590s 630ms/step - loss: 1.2701 - accuracy: 0.6702 - top_k_categorical_accuracy: 0.8933\n",
      "Epoch 32/50\n",
      "2525/2525 [==============================] - 1607s 637ms/step - loss: 1.2699 - accuracy: 0.6706 - top_k_categorical_accuracy: 0.8935\n",
      "Epoch 33/50\n",
      "2525/2525 [==============================] - 1623s 643ms/step - loss: 1.2709 - accuracy: 0.6718 - top_k_categorical_accuracy: 0.8928\n",
      "Epoch 34/50\n",
      "2525/2525 [==============================] - 1609s 636ms/step - loss: 1.2653 - accuracy: 0.6732 - top_k_categorical_accuracy: 0.8938\n",
      "Epoch 35/50\n",
      "2525/2525 [==============================] - 1635s 648ms/step - loss: 1.2633 - accuracy: 0.6704 - top_k_categorical_accuracy: 0.8928\n",
      "Epoch 36/50\n",
      "2525/2525 [==============================] - 1591s 630ms/step - loss: 1.2610 - accuracy: 0.6733 - top_k_categorical_accuracy: 0.8944\n",
      "Epoch 37/50\n",
      "2525/2525 [==============================] - 1603s 635ms/step - loss: 1.2616 - accuracy: 0.6733 - top_k_categorical_accuracy: 0.8938\n",
      "Epoch 38/50\n",
      "2525/2525 [==============================] - 1608s 637ms/step - loss: 1.2651 - accuracy: 0.6730 - top_k_categorical_accuracy: 0.8935\n",
      "Epoch 39/50\n",
      "2525/2525 [==============================] - 1595s 632ms/step - loss: 1.2621 - accuracy: 0.6739 - top_k_categorical_accuracy: 0.8944\n",
      "Epoch 40/50\n",
      "2525/2525 [==============================] - 1607s 636ms/step - loss: 1.2570 - accuracy: 0.6741 - top_k_categorical_accuracy: 0.8938\n",
      "Epoch 41/50\n",
      "2525/2525 [==============================] - 1592s 630ms/step - loss: 1.2504 - accuracy: 0.6752 - top_k_categorical_accuracy: 0.8958\n",
      "Epoch 42/50\n",
      "2525/2525 [==============================] - 1619s 641ms/step - loss: 1.2472 - accuracy: 0.6764 - top_k_categorical_accuracy: 0.8955\n",
      "Epoch 43/50\n",
      "2525/2525 [==============================] - 1604s 635ms/step - loss: 1.2519 - accuracy: 0.6772 - top_k_categorical_accuracy: 0.8960\n",
      "Epoch 44/50\n",
      "2525/2525 [==============================] - 1776s 703ms/step - loss: 1.2530 - accuracy: 0.6749 - top_k_categorical_accuracy: 0.8963\n",
      "Epoch 45/50\n",
      "2525/2525 [==============================] - 3100s 1s/step - loss: 1.2436 - accuracy: 0.6763 - top_k_categorical_accuracy: 0.8960\n",
      "Epoch 46/50\n",
      "2525/2525 [==============================] - 1601s 634ms/step - loss: 1.2547 - accuracy: 0.6745 - top_k_categorical_accuracy: 0.8967\n",
      "Epoch 47/50\n",
      "2525/2525 [==============================] - 1642s 650ms/step - loss: 1.2419 - accuracy: 0.6767 - top_k_categorical_accuracy: 0.8974\n",
      "Epoch 48/50\n",
      "2525/2525 [==============================] - 1630s 646ms/step - loss: 1.2426 - accuracy: 0.6769 - top_k_categorical_accuracy: 0.8984\n",
      "Epoch 49/50\n",
      "2525/2525 [==============================] - 1615s 640ms/step - loss: 1.2450 - accuracy: 0.6770 - top_k_categorical_accuracy: 0.8975\n",
      "Epoch 50/50\n",
      "2525/2525 [==============================] - 1609s 637ms/step - loss: 1.2372 - accuracy: 0.6787 - top_k_categorical_accuracy: 0.8986\n"
     ]
    }
   ],
   "source": [
    "efficientnet_model = model_Efficientnet.fit(train_data, epochs = epochs, verbose = 1)"
   ]
  },
  {
   "cell_type": "code",
   "execution_count": 11,
   "id": "06b3ffa1",
   "metadata": {},
   "outputs": [
    {
     "name": "stdout",
     "output_type": "stream",
     "text": [
      "Model: \"sequential\"\n",
      "_________________________________________________________________\n",
      " Layer (type)                Output Shape              Param #   \n",
      "=================================================================\n",
      " Efficientnet_b0 (KerasLayer  (None, 1000)             5330564   \n",
      " )                                                               \n",
      "                                                                 \n",
      " flatten (Flatten)           (None, 1000)              0         \n",
      "                                                                 \n",
      " Output_layer (Dense)        (None, 101)               101101    \n",
      "                                                                 \n",
      "=================================================================\n",
      "Total params: 5,431,665\n",
      "Trainable params: 101,101\n",
      "Non-trainable params: 5,330,564\n",
      "_________________________________________________________________\n"
     ]
    }
   ],
   "source": [
    "model_Efficientnet.summary()\n",
    "model_Efficientnet.save('transfer_learning.h5')"
   ]
  },
  {
   "cell_type": "code",
   "execution_count": 19,
   "id": "fa56e184",
   "metadata": {},
   "outputs": [
    {
     "data": {
      "image/png": "[encoded data removed]",
      "text/plain": [
       "<Figure size 1080x576 with 2 Axes>"
      ]
     },
     "metadata": {
      "needs_background": "light"
     },
     "output_type": "display_data"
    }
   ],
   "source": [
    "acc = efficientnet_model.history['accuracy']\n",
    "top_k_acc = efficientnet_model.history['top_k_categorical_accuracy']\n",
    "\n",
    "loss = efficientnet_model.history['loss']\n",
    "\n",
    "epochs_range = range(epochs)\n",
    "\n",
    "plt.figure(figsize=(15, 8))\n",
    "plt.subplot(1, 2, 1)\n",
    "plt.plot(epochs_range, acc, label='Training Accuracy')\n",
    "plt.legend(loc='lower right')\n",
    "plt.title('Transfer Learning Training Accuracy')\n",
    "\n",
    "plt.subplot(1, 2, 2)\n",
    "plt.plot(epochs_range, loss, label='Training Loss')\n",
    "plt.legend(loc='upper right')\n",
    "plt.title('Transfer Learning Training Loss')\n",
    "plt.show()"
   ]
  },
  {
   "cell_type": "code",
   "execution_count": 22,
   "id": "a50331ce",
   "metadata": {},
   "outputs": [
    {
     "data": {
      "image/png": "[encoded data removed]",
      "text/plain": [
       "<Figure size 1080x576 with 1 Axes>"
      ]
     },
     "metadata": {
      "needs_background": "light"
     },
     "output_type": "display_data"
    }
   ],
   "source": [
    "plt.figure(figsize=(15, 8))\n",
    "plt.subplot(1, 2, 1)\n",
    "plt.plot(epochs_range, top_k_acc, label='Top k Training Accuracy')\n",
    "plt.legend(loc='lower right')\n",
    "plt.title('Transfer Learning Top k Training Accuracy')\n",
    "plt.show()"
   ]
  },
  {
   "cell_type": "markdown",
   "id": "6b2b2b49",
   "metadata": {},
   "source": [
    "## References"
   ]
  },
  {
   "cell_type": "markdown",
   "id": "925af505",
   "metadata": {},
   "source": [
    "https://www.kaggle.com/code/codyyu23/transfer-learning"
   ]
  }
 ],
 "metadata": {
  "kernelspec": {
   "display_name": "Python 3 (ipykernel)",
   "language": "python",
   "name": "python3"
  },
  "language_info": {
   "codemirror_mode": {
    "name": "ipython",
    "version": 3
   },
   "file_extension": ".py",
   "mimetype": "text/x-python",
   "name": "python",
   "nbconvert_exporter": "python",
   "pygments_lexer": "ipython3",
   "version": "3.9.12"
  }
 },
 "nbformat": 4,
 "nbformat_minor": 5
}
